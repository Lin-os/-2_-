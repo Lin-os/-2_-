{
 "cells": [
  {
   "cell_type": "code",
   "execution_count": null,
   "id": "73f3034c",
   "metadata": {},
   "outputs": [],
   "source": [
    "!pip install tflite_model_maker  # tflite_model_maker 설치"
   ]
  },
  {
   "cell_type": "code",
   "execution_count": null,
   "id": "34bafca0",
   "metadata": {},
   "outputs": [],
   "source": [
    "!pip install tflite_support # tflite_support 설치"
   ]
  },
  {
   "cell_type": "code",
   "execution_count": null,
   "id": "b7fce689",
   "metadata": {},
   "outputs": [],
   "source": [
    "#!pip uninstall tensorflow && pip install tensorflow==2.8.0"
   ]
  },
  {
   "cell_type": "code",
   "execution_count": null,
   "id": "8e381fb1",
   "metadata": {},
   "outputs": [],
   "source": [
    "!pip install pycocotools  # pycocotools : Object Detection 모델을 evaluation 할 때 사용하는 evaluation metrics로 사용됨"
   ]
  },
  {
   "cell_type": "code",
   "execution_count": null,
   "id": "6c9868de",
   "metadata": {},
   "outputs": [],
   "source": [
    "import numpy as np # numpy : 다차원 배열을 처리하는 패키지\n",
    "import os # 운영체제에서 제공되는 여러 기능을 Pyton에서 수행시켜주는 Pyton Library\n",
    "\n",
    "from tflite_model_maker.config import ExportFormat, QuantizationConfig\n",
    "from tflite_model_maker import model_spec\n",
    "from tflite_model_maker import object_detector\n",
    "\n",
    "from tflite_support import metadata\n",
    "\n",
    "import tensorflow as tf  # tensorflow를 tf로 사용한다\n",
    "assert tf.__version__.startswith('2')\n",
    "\n",
    "tf.get_logger().setLevel('ERROR')\n",
    "from absl import logging\n",
    "logging.set_verbosity(logging.ERROR)"
   ]
  },
  {
   "cell_type": "code",
   "execution_count": null,
   "id": "b1e32bfc",
   "metadata": {},
   "outputs": [],
   "source": [
    "# tensorflow 버전 확인 : tensorflow == 2.8.0\n",
    "tf .__version__"
   ]
  },
  {
   "cell_type": "code",
   "execution_count": null,
   "id": "cde64306",
   "metadata": {},
   "outputs": [],
   "source": [
    "#각 데이터에 인덱스 붙이기\n",
    "train_data = object_detector.DataLoader.from_pascal_voc(\n",
    "    'C:/Users/wnsgk/test/train', # train 파일 위치 정확히 작성\n",
    "    'C:/Users/wnsgk/test/train',\n",
    "    ['plastic','can','glassBottle']\n",
    ")\n",
    "\n",
    "val_data = object_detector.DataLoader.from_pascal_voc(\n",
    "    'C:/Users/wnsgk/test/validate', # validate 파일 위치 정확히 작성\n",
    "    'C:/Users/wnsgk/test/validate',\n",
    "    ['plastic','can','glassBottle]\n",
    ")"
   ]
  },
  {
   "cell_type": "code",
   "execution_count": null,
   "id": "33f368c7",
   "metadata": {},
   "outputs": [],
   "source": [
    "spec = model_spec.get('efficientdet_lite0') # tensorflow == 2.8.0 버전에서만 돌아감"
   ]
  },
  {
   "cell_type": "code",
   "execution_count": null,
   "id": "88b4a323",
   "metadata": {},
   "outputs": [],
   "source": [
    "# 이미지 학습하기\n",
    "model = object_detector.create(train_data, model_spec=spec, batch_size=4, train_whole_model=True, epochs=20, validation_data=val_data)"
   ]
  },
  {
   "cell_type": "code",
   "execution_count": null,
   "id": "aa0a5604",
   "metadata": {},
   "outputs": [],
   "source": [
    "model.evaluate(val_data)"
   ]
  },
  {
   "cell_type": "code",
   "execution_count": null,
   "id": "cf94289e",
   "metadata": {},
   "outputs": [],
   "source": [
    "# .tflite 파일로 export하기\n",
    "model.export(export_dir='.', tflite_filename='android.tflite')"
   ]
  }
 ],
 "metadata": {
  "kernelspec": {
   "display_name": "Python 3 (ipykernel)",
   "language": "python",
   "name": "python3"
  },
  "language_info": {
   "codemirror_mode": {
    "name": "ipython",
    "version": 3
   },
   "file_extension": ".py",
   "mimetype": "text/x-python",
   "name": "python",
   "nbconvert_exporter": "python",
   "pygments_lexer": "ipython3",
   "version": "3.9.7"
  }
 },
 "nbformat": 4,
 "nbformat_minor": 5
}
