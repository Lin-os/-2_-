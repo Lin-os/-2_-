{
 "cells": [
  {
   "cell_type": "code",
   "execution_count": 3,
   "id": "82791047",
   "metadata": {
    "collapsed": true
   },
   "outputs": [
    {
     "name": "stdout",
     "output_type": "stream",
     "text": [
      "Collecting tflite_model_maker\n",
      "  Using cached tflite_model_maker-0.4.0-py3-none-any.whl (642 kB)\n",
      "Requirement already satisfied: lxml>=4.6.1 in c:\\users\\wnsgk\\anaconda3\\lib\\site-packages (from tflite_model_maker) (4.6.3)\n",
      "Requirement already satisfied: pillow>=7.0.0 in c:\\users\\wnsgk\\anaconda3\\lib\\site-packages (from tflite_model_maker) (8.4.0)\n",
      "Collecting tensorflow-addons>=0.11.2\n",
      "  Using cached tensorflow_addons-0.17.1-cp39-cp39-win_amd64.whl (758 kB)\n",
      "Requirement already satisfied: urllib3!=1.25.0,!=1.25.1,<1.26,>=1.21.1 in c:\\users\\wnsgk\\anaconda3\\lib\\site-packages (from tflite_model_maker) (1.25.11)\n",
      "Requirement already satisfied: six>=1.12.0 in c:\\users\\wnsgk\\anaconda3\\lib\\site-packages (from tflite_model_maker) (1.16.0)\n",
      "Collecting tensorflowjs>=2.4.0\n",
      "  Using cached tensorflowjs-3.18.0-py3-none-any.whl (77 kB)\n",
      "Requirement already satisfied: tensorflow>=2.6.0 in c:\\users\\wnsgk\\anaconda3\\lib\\site-packages (from tflite_model_maker) (2.9.1)\n",
      "Collecting neural-structured-learning>=1.3.1\n",
      "  Using cached neural_structured_learning-1.3.1-py2.py3-none-any.whl (120 kB)\n",
      "Requirement already satisfied: sentencepiece>=0.1.91 in c:\\users\\wnsgk\\anaconda3\\lib\\site-packages (from tflite_model_maker) (0.1.96)\n",
      "Requirement already satisfied: flatbuffers==1.12 in c:\\users\\wnsgk\\anaconda3\\lib\\site-packages (from tflite_model_maker) (1.12)\n",
      "Collecting tensorflow-datasets>=2.1.0\n",
      "  Using cached tensorflow_datasets-4.6.0-py3-none-any.whl (4.3 MB)\n",
      "Requirement already satisfied: tensorflow-hub<0.13,>=0.7.0 in c:\\users\\wnsgk\\anaconda3\\lib\\site-packages (from tflite_model_maker) (0.12.0)\n",
      "Requirement already satisfied: matplotlib<3.5.0,>=3.0.3 in c:\\users\\wnsgk\\anaconda3\\lib\\site-packages (from tflite_model_maker) (3.4.3)\n",
      "Collecting librosa==0.8.1\n",
      "  Using cached librosa-0.8.1-py3-none-any.whl (203 kB)\n",
      "Requirement already satisfied: tflite-support>=0.4.0 in c:\\users\\wnsgk\\anaconda3\\lib\\site-packages (from tflite_model_maker) (0.4.1)\n",
      "Requirement already satisfied: numpy>=1.17.3 in c:\\users\\wnsgk\\anaconda3\\lib\\site-packages (from tflite_model_maker) (1.20.3)\n",
      "Collecting fire>=0.3.1\n",
      "  Using cached fire-0.4.0-py2.py3-none-any.whl\n",
      "Requirement already satisfied: tensorflow-model-optimization>=0.5 in c:\\users\\wnsgk\\anaconda3\\lib\\site-packages (from tflite_model_maker) (0.7.2)\n",
      "Collecting tflite_model_maker\n",
      "  Using cached tflite_model_maker-0.3.4-py3-none-any.whl (616 kB)\n",
      "Collecting tf-models-official==2.3.0\n",
      "  Using cached tf_models_official-2.3.0-py2.py3-none-any.whl (840 kB)\n",
      "Requirement already satisfied: PyYAML>=5.1 in c:\\users\\wnsgk\\anaconda3\\lib\\site-packages (from tflite_model_maker) (6.0)\n",
      "Requirement already satisfied: absl-py>=0.10.0 in c:\\users\\wnsgk\\anaconda3\\lib\\site-packages (from tflite_model_maker) (1.1.0)\n",
      "Requirement already satisfied: Cython>=0.29.13 in c:\\users\\wnsgk\\anaconda3\\lib\\site-packages (from tflite_model_maker) (0.29.24)\n",
      "Collecting numba==0.53\n",
      "  Using cached numba-0.53.0-cp39-cp39-win_amd64.whl (2.3 MB)\n",
      "Collecting pooch>=1.0\n",
      "  Using cached pooch-1.6.0-py3-none-any.whl (56 kB)\n",
      "Collecting resampy>=0.2.2\n",
      "  Using cached resampy-0.2.2-py3-none-any.whl\n",
      "Requirement already satisfied: packaging>=20.0 in c:\\users\\wnsgk\\anaconda3\\lib\\site-packages (from librosa==0.8.1->tflite_model_maker) (20.9)\n",
      "Collecting soundfile>=0.10.2\n",
      "  Using cached SoundFile-0.10.3.post1-py2.py3.cp26.cp27.cp32.cp33.cp34.cp35.cp36.pp27.pp32.pp33-none-win_amd64.whl (689 kB)\n",
      "Requirement already satisfied: decorator>=3.0.0 in c:\\users\\wnsgk\\anaconda3\\lib\\site-packages (from librosa==0.8.1->tflite_model_maker) (5.1.0)\n",
      "Requirement already satisfied: audioread>=2.0.0 in c:\\users\\wnsgk\\anaconda3\\lib\\site-packages (from librosa==0.8.1->tflite_model_maker) (2.1.9)\n",
      "Requirement already satisfied: scipy>=1.0.0 in c:\\users\\wnsgk\\anaconda3\\lib\\site-packages (from librosa==0.8.1->tflite_model_maker) (1.7.1)\n",
      "Requirement already satisfied: joblib>=0.14 in c:\\users\\wnsgk\\anaconda3\\lib\\site-packages (from librosa==0.8.1->tflite_model_maker) (1.1.0)\n",
      "Requirement already satisfied: scikit-learn!=0.19.0,>=0.14.0 in c:\\users\\wnsgk\\anaconda3\\lib\\site-packages (from librosa==0.8.1->tflite_model_maker) (0.24.2)\n",
      "Requirement already satisfied: setuptools in c:\\users\\wnsgk\\anaconda3\\lib\\site-packages (from numba==0.53->tflite_model_maker) (58.0.4)\n",
      "Collecting llvmlite<0.37,>=0.36.0rc1\n",
      "  Using cached llvmlite-0.36.0-cp39-cp39-win_amd64.whl (16.0 MB)\n",
      "Requirement already satisfied: py-cpuinfo>=3.3.0 in c:\\users\\wnsgk\\anaconda3\\lib\\site-packages (from tf-models-official==2.3.0->tflite_model_maker) (8.0.0)\n",
      "Collecting kaggle>=1.3.9\n",
      "  Using cached kaggle-1.5.12-py3-none-any.whl\n",
      "Requirement already satisfied: gin-config in c:\\users\\wnsgk\\anaconda3\\lib\\site-packages (from tf-models-official==2.3.0->tflite_model_maker) (0.5.0)\n",
      "Requirement already satisfied: psutil>=5.4.3 in c:\\users\\wnsgk\\anaconda3\\lib\\site-packages (from tf-models-official==2.3.0->tflite_model_maker) (5.8.0)\n",
      "Requirement already satisfied: tf-slim>=1.1.0 in c:\\users\\wnsgk\\anaconda3\\lib\\site-packages (from tf-models-official==2.3.0->tflite_model_maker) (1.1.0)\n",
      "Collecting google-cloud-bigquery>=0.31.0\n",
      "  Using cached google_cloud_bigquery-3.2.0-py2.py3-none-any.whl (211 kB)\n",
      "Collecting google-api-python-client>=1.6.7\n",
      "  Using cached google_api_python_client-2.51.0-py2.py3-none-any.whl (8.6 MB)\n",
      "Requirement already satisfied: dataclasses in c:\\users\\wnsgk\\anaconda3\\lib\\site-packages (from tf-models-official==2.3.0->tflite_model_maker) (0.6)\n",
      "Requirement already satisfied: opencv-python-headless in c:\\users\\wnsgk\\anaconda3\\lib\\site-packages (from tf-models-official==2.3.0->tflite_model_maker) (4.6.0.66)\n",
      "Requirement already satisfied: pandas>=0.22.0 in c:\\users\\wnsgk\\anaconda3\\lib\\site-packages (from tf-models-official==2.3.0->tflite_model_maker) (1.3.4)\n",
      "Requirement already satisfied: termcolor in c:\\users\\wnsgk\\anaconda3\\lib\\site-packages (from fire>=0.3.1->tflite_model_maker) (1.1.0)\n",
      "Requirement already satisfied: kiwisolver>=1.0.1 in c:\\users\\wnsgk\\anaconda3\\lib\\site-packages (from matplotlib<3.5.0,>=3.0.3->tflite_model_maker) (1.3.1)\n",
      "Requirement already satisfied: pyparsing>=2.2.1 in c:\\users\\wnsgk\\anaconda3\\lib\\site-packages (from matplotlib<3.5.0,>=3.0.3->tflite_model_maker) (3.0.4)\n",
      "Requirement already satisfied: cycler>=0.10 in c:\\users\\wnsgk\\anaconda3\\lib\\site-packages (from matplotlib<3.5.0,>=3.0.3->tflite_model_maker) (0.10.0)\n",
      "Requirement already satisfied: python-dateutil>=2.7 in c:\\users\\wnsgk\\anaconda3\\lib\\site-packages (from matplotlib<3.5.0,>=3.0.3->tflite_model_maker) (2.8.2)\n",
      "Requirement already satisfied: attrs in c:\\users\\wnsgk\\anaconda3\\lib\\site-packages (from neural-structured-learning>=1.3.1->tflite_model_maker) (21.2.0)\n",
      "Requirement already satisfied: grpcio<2.0,>=1.24.3 in c:\\users\\wnsgk\\anaconda3\\lib\\site-packages (from tensorflow>=2.6.0->tflite_model_maker) (1.46.3)\n",
      "Requirement already satisfied: google-pasta>=0.1.1 in c:\\users\\wnsgk\\anaconda3\\lib\\site-packages (from tensorflow>=2.6.0->tflite_model_maker) (0.2.0)\n",
      "Requirement already satisfied: keras<2.10.0,>=2.9.0rc0 in c:\\users\\wnsgk\\anaconda3\\lib\\site-packages (from tensorflow>=2.6.0->tflite_model_maker) (2.9.0)\n",
      "Requirement already satisfied: protobuf<3.20,>=3.9.2 in c:\\users\\wnsgk\\anaconda3\\lib\\site-packages (from tensorflow>=2.6.0->tflite_model_maker) (3.19.4)\n",
      "Requirement already satisfied: tensorflow-io-gcs-filesystem>=0.23.1 in c:\\users\\wnsgk\\anaconda3\\lib\\site-packages (from tensorflow>=2.6.0->tflite_model_maker) (0.26.0)\n",
      "Requirement already satisfied: typing-extensions>=3.6.6 in c:\\users\\wnsgk\\anaconda3\\lib\\site-packages (from tensorflow>=2.6.0->tflite_model_maker) (3.10.0.2)\n",
      "Requirement already satisfied: opt-einsum>=2.3.2 in c:\\users\\wnsgk\\anaconda3\\lib\\site-packages (from tensorflow>=2.6.0->tflite_model_maker) (3.3.0)\n",
      "Requirement already satisfied: keras-preprocessing>=1.1.1 in c:\\users\\wnsgk\\anaconda3\\lib\\site-packages (from tensorflow>=2.6.0->tflite_model_maker) (1.1.2)\n",
      "Requirement already satisfied: tensorflow-estimator<2.10.0,>=2.9.0rc0 in c:\\users\\wnsgk\\anaconda3\\lib\\site-packages (from tensorflow>=2.6.0->tflite_model_maker) (2.9.0)\n",
      "Requirement already satisfied: libclang>=13.0.0 in c:\\users\\wnsgk\\anaconda3\\lib\\site-packages (from tensorflow>=2.6.0->tflite_model_maker) (14.0.1)\n",
      "Requirement already satisfied: wrapt>=1.11.0 in c:\\users\\wnsgk\\anaconda3\\lib\\site-packages (from tensorflow>=2.6.0->tflite_model_maker) (1.12.1)\n",
      "Requirement already satisfied: h5py>=2.9.0 in c:\\users\\wnsgk\\anaconda3\\lib\\site-packages (from tensorflow>=2.6.0->tflite_model_maker) (3.2.1)\n",
      "Requirement already satisfied: tensorboard<2.10,>=2.9 in c:\\users\\wnsgk\\anaconda3\\lib\\site-packages (from tensorflow>=2.6.0->tflite_model_maker) (2.9.1)\n",
      "Requirement already satisfied: gast<=0.4.0,>=0.2.1 in c:\\users\\wnsgk\\anaconda3\\lib\\site-packages (from tensorflow>=2.6.0->tflite_model_maker) (0.4.0)\n",
      "Requirement already satisfied: astunparse>=1.6.0 in c:\\users\\wnsgk\\anaconda3\\lib\\site-packages (from tensorflow>=2.6.0->tflite_model_maker) (1.6.3)\n",
      "Requirement already satisfied: typeguard>=2.7 in c:\\users\\wnsgk\\anaconda3\\lib\\site-packages (from tensorflow-addons>=0.11.2->tflite_model_maker) (2.13.3)\n",
      "Requirement already satisfied: promise in c:\\users\\wnsgk\\anaconda3\\lib\\site-packages (from tensorflow-datasets>=2.1.0->tflite_model_maker) (2.3)\n",
      "Requirement already satisfied: toml in c:\\users\\wnsgk\\anaconda3\\lib\\site-packages (from tensorflow-datasets>=2.1.0->tflite_model_maker) (0.10.2)\n",
      "Requirement already satisfied: requests>=2.19.0 in c:\\users\\wnsgk\\anaconda3\\lib\\site-packages (from tensorflow-datasets>=2.1.0->tflite_model_maker) (2.26.0)\n",
      "Requirement already satisfied: etils[epath] in c:\\users\\wnsgk\\anaconda3\\lib\\site-packages (from tensorflow-datasets>=2.1.0->tflite_model_maker) (0.6.0)\n",
      "Collecting tensorflow-metadata\n",
      "  Using cached tensorflow_metadata-1.8.0-py3-none-any.whl (50 kB)\n",
      "Requirement already satisfied: tqdm in c:\\users\\wnsgk\\anaconda3\\lib\\site-packages (from tensorflow-datasets>=2.1.0->tflite_model_maker) (4.62.3)\n",
      "Collecting dill\n",
      "  Using cached dill-0.3.5.1-py2.py3-none-any.whl (95 kB)\n",
      "Requirement already satisfied: dm-tree~=0.1.1 in c:\\users\\wnsgk\\anaconda3\\lib\\site-packages (from tensorflow-model-optimization>=0.5->tflite_model_maker) (0.1.7)\n",
      "Requirement already satisfied: sounddevice>=0.4.4 in c:\\users\\wnsgk\\anaconda3\\lib\\site-packages (from tflite-support>=0.4.0->tflite_model_maker) (0.4.4)\n",
      "Requirement already satisfied: pybind11>=2.6.0 in c:\\users\\wnsgk\\anaconda3\\lib\\site-packages (from tflite-support>=0.4.0->tflite_model_maker) (2.9.2)\n",
      "Requirement already satisfied: wheel<1.0,>=0.23.0 in c:\\users\\wnsgk\\anaconda3\\lib\\site-packages (from astunparse>=1.6.0->tensorflow>=2.6.0->tflite_model_maker) (0.37.0)\n",
      "Requirement already satisfied: google-api-core!=2.0.*,!=2.1.*,!=2.2.*,!=2.3.0,<3.0.0dev,>=1.31.5 in c:\\users\\wnsgk\\anaconda3\\lib\\site-packages (from google-api-python-client>=1.6.7->tf-models-official==2.3.0->tflite_model_maker) (2.8.1)\n",
      "Requirement already satisfied: google-auth<3.0.0dev,>=1.16.0 in c:\\users\\wnsgk\\anaconda3\\lib\\site-packages (from google-api-python-client>=1.6.7->tf-models-official==2.3.0->tflite_model_maker) (2.8.0)\n",
      "Collecting google-auth-httplib2>=0.1.0\n",
      "  Using cached google_auth_httplib2-0.1.0-py2.py3-none-any.whl (9.3 kB)\n",
      "Requirement already satisfied: uritemplate<5,>=3.0.1 in c:\\users\\wnsgk\\anaconda3\\lib\\site-packages (from google-api-python-client>=1.6.7->tf-models-official==2.3.0->tflite_model_maker) (4.1.1)\n",
      "Collecting httplib2<1dev,>=0.15.0\n",
      "  Using cached httplib2-0.20.4-py3-none-any.whl (96 kB)\n",
      "Collecting google-cloud-bigquery-storage<3.0.0dev,>=2.0.0\n",
      "  Using cached google_cloud_bigquery_storage-2.13.2-py2.py3-none-any.whl (180 kB)\n",
      "Collecting google-cloud-core<3.0.0dev,>=1.4.1\n",
      "  Using cached google_cloud_core-2.3.1-py2.py3-none-any.whl (29 kB)\n",
      "Requirement already satisfied: pyarrow<9.0dev,>=3.0.0 in c:\\users\\wnsgk\\anaconda3\\lib\\site-packages (from google-cloud-bigquery>=0.31.0->tf-models-official==2.3.0->tflite_model_maker) (8.0.0)\n",
      "Requirement already satisfied: proto-plus<2.0.0dev,>=1.15.0 in c:\\users\\wnsgk\\anaconda3\\lib\\site-packages (from google-cloud-bigquery>=0.31.0->tf-models-official==2.3.0->tflite_model_maker) (1.20.6)\n",
      "Collecting google-resumable-media<3.0dev,>=0.6.0\n",
      "  Using cached google_resumable_media-2.3.3-py2.py3-none-any.whl (76 kB)\n",
      "Requirement already satisfied: certifi in c:\\users\\wnsgk\\anaconda3\\lib\\site-packages (from kaggle>=1.3.9->tf-models-official==2.3.0->tflite_model_maker) (2021.10.8)\n",
      "Requirement already satisfied: python-slugify in c:\\users\\wnsgk\\anaconda3\\lib\\site-packages (from kaggle>=1.3.9->tf-models-official==2.3.0->tflite_model_maker) (5.0.2)\n",
      "Requirement already satisfied: pytz>=2017.3 in c:\\users\\wnsgk\\anaconda3\\lib\\site-packages (from pandas>=0.22.0->tf-models-official==2.3.0->tflite_model_maker) (2021.3)\n",
      "Requirement already satisfied: appdirs>=1.3.0 in c:\\users\\wnsgk\\anaconda3\\lib\\site-packages (from pooch>=1.0->librosa==0.8.1->tflite_model_maker) (1.4.4)\n",
      "Requirement already satisfied: charset-normalizer~=2.0.0 in c:\\users\\wnsgk\\anaconda3\\lib\\site-packages (from requests>=2.19.0->tensorflow-datasets>=2.1.0->tflite_model_maker) (2.0.4)\n",
      "Requirement already satisfied: idna<4,>=2.5 in c:\\users\\wnsgk\\anaconda3\\lib\\site-packages (from requests>=2.19.0->tensorflow-datasets>=2.1.0->tflite_model_maker) (3.2)\n",
      "Requirement already satisfied: threadpoolctl>=2.0.0 in c:\\users\\wnsgk\\anaconda3\\lib\\site-packages (from scikit-learn!=0.19.0,>=0.14.0->librosa==0.8.1->tflite_model_maker) (2.2.0)\n",
      "Requirement already satisfied: CFFI>=1.0 in c:\\users\\wnsgk\\anaconda3\\lib\\site-packages (from sounddevice>=0.4.4->tflite-support>=0.4.0->tflite_model_maker) (1.14.6)\n",
      "Requirement already satisfied: tensorboard-plugin-wit>=1.6.0 in c:\\users\\wnsgk\\anaconda3\\lib\\site-packages (from tensorboard<2.10,>=2.9->tensorflow>=2.6.0->tflite_model_maker) (1.8.1)\n",
      "Requirement already satisfied: google-auth-oauthlib<0.5,>=0.4.1 in c:\\users\\wnsgk\\anaconda3\\lib\\site-packages (from tensorboard<2.10,>=2.9->tensorflow>=2.6.0->tflite_model_maker) (0.4.6)\n",
      "Requirement already satisfied: werkzeug>=1.0.1 in c:\\users\\wnsgk\\anaconda3\\lib\\site-packages (from tensorboard<2.10,>=2.9->tensorflow>=2.6.0->tflite_model_maker) (2.0.2)\n",
      "Requirement already satisfied: markdown>=2.6.8 in c:\\users\\wnsgk\\anaconda3\\lib\\site-packages (from tensorboard<2.10,>=2.9->tensorflow>=2.6.0->tflite_model_maker) (3.3.7)\n",
      "Requirement already satisfied: tensorboard-data-server<0.7.0,>=0.6.0 in c:\\users\\wnsgk\\anaconda3\\lib\\site-packages (from tensorboard<2.10,>=2.9->tensorflow>=2.6.0->tflite_model_maker) (0.6.1)\n",
      "Requirement already satisfied: zipp in c:\\users\\wnsgk\\anaconda3\\lib\\site-packages (from etils[epath]->tensorflow-datasets>=2.1.0->tflite_model_maker) (3.6.0)\n",
      "Collecting importlib_resources\n",
      "  Using cached importlib_resources-5.7.1-py3-none-any.whl (28 kB)\n",
      "Requirement already satisfied: googleapis-common-protos<2,>=1.52.0 in c:\\users\\wnsgk\\anaconda3\\lib\\site-packages (from tensorflow-metadata->tensorflow-datasets>=2.1.0->tflite_model_maker) (1.56.2)\n",
      "Requirement already satisfied: colorama in c:\\users\\wnsgk\\anaconda3\\lib\\site-packages (from tqdm->tensorflow-datasets>=2.1.0->tflite_model_maker) (0.4.4)\n",
      "Requirement already satisfied: pycparser in c:\\users\\wnsgk\\anaconda3\\lib\\site-packages (from CFFI>=1.0->sounddevice>=0.4.4->tflite-support>=0.4.0->tflite_model_maker) (2.20)\n",
      "Requirement already satisfied: grpcio-status<2.0dev,>=1.33.2 in c:\\users\\wnsgk\\anaconda3\\lib\\site-packages (from google-api-core!=2.0.*,!=2.1.*,!=2.2.*,!=2.3.0,<3.0.0dev,>=1.31.5->google-api-python-client>=1.6.7->tf-models-official==2.3.0->tflite_model_maker) (1.46.3)\n",
      "Requirement already satisfied: cachetools<6.0,>=2.0.0 in c:\\users\\wnsgk\\anaconda3\\lib\\site-packages (from google-auth<3.0.0dev,>=1.16.0->google-api-python-client>=1.6.7->tf-models-official==2.3.0->tflite_model_maker) (5.2.0)\n",
      "Requirement already satisfied: rsa<5,>=3.1.4 in c:\\users\\wnsgk\\anaconda3\\lib\\site-packages (from google-auth<3.0.0dev,>=1.16.0->google-api-python-client>=1.6.7->tf-models-official==2.3.0->tflite_model_maker) (4.8)\n",
      "Requirement already satisfied: pyasn1-modules>=0.2.1 in c:\\users\\wnsgk\\anaconda3\\lib\\site-packages (from google-auth<3.0.0dev,>=1.16.0->google-api-python-client>=1.6.7->tf-models-official==2.3.0->tflite_model_maker) (0.2.8)\n",
      "Requirement already satisfied: requests-oauthlib>=0.7.0 in c:\\users\\wnsgk\\anaconda3\\lib\\site-packages (from google-auth-oauthlib<0.5,>=0.4.1->tensorboard<2.10,>=2.9->tensorflow>=2.6.0->tflite_model_maker) (1.3.1)\n",
      "Collecting google-crc32c<2.0dev,>=1.0\n",
      "  Using cached google_crc32c-1.3.0-cp39-cp39-win_amd64.whl (27 kB)\n",
      "Requirement already satisfied: importlib-metadata>=4.4 in c:\\users\\wnsgk\\anaconda3\\lib\\site-packages (from markdown>=2.6.8->tensorboard<2.10,>=2.9->tensorflow>=2.6.0->tflite_model_maker) (4.8.1)\n",
      "Requirement already satisfied: text-unidecode>=1.3 in c:\\users\\wnsgk\\anaconda3\\lib\\site-packages (from python-slugify->kaggle>=1.3.9->tf-models-official==2.3.0->tflite_model_maker) (1.3)\n",
      "Requirement already satisfied: pyasn1<0.5.0,>=0.4.6 in c:\\users\\wnsgk\\anaconda3\\lib\\site-packages (from pyasn1-modules>=0.2.1->google-auth<3.0.0dev,>=1.16.0->google-api-python-client>=1.6.7->tf-models-official==2.3.0->tflite_model_maker) (0.4.8)\n",
      "Requirement already satisfied: oauthlib>=3.0.0 in c:\\users\\wnsgk\\anaconda3\\lib\\site-packages (from requests-oauthlib>=0.7.0->google-auth-oauthlib<0.5,>=0.4.1->tensorboard<2.10,>=2.9->tensorflow>=2.6.0->tflite_model_maker) (3.2.0)\n",
      "Installing collected packages: llvmlite, importlib_resources, httplib2, google-crc32c, fire, dill, tensorflow-metadata, tensorflow-addons, soundfile, pooch, numba, neural-structured-learning, kaggle, google-resumable-media, tensorflow-datasets, resampy, google-auth-httplib2, librosa, google-cloud-core, google-api-python-client, google-cloud-bigquery-storage, tensorflowjs, google-cloud-bigquery, tf-models-official, tflite_model_maker\n",
      "  Attempting uninstall: numba\n",
      "    Found existing installation: numba 0.54.1\n",
      "    Uninstalling numba-0.54.1:\n",
      "      Successfully uninstalled numba-0.54.1\n",
      "Successfully installed dill-0.3.5.1 fire-0.4.0 google-api-python-client-2.51.0 google-auth-httplib2-0.1.0 google-cloud-bigquery-3.2.0 google-cloud-bigquery-storage-2.13.2 google-cloud-core-2.3.1 google-crc32c-1.3.0 google-resumable-media-2.3.3 httplib2-0.20.4 importlib_resources-5.7.1 kaggle-1.5.12 librosa-0.8.1 llvmlite-0.36.0 neural-structured-learning-1.3.1 numba-0.53.0 pooch-1.6.0 resampy-0.2.2 soundfile-0.10.3.post1 tensorflow-addons-0.17.1 tensorflow-datasets-4.6.0 tensorflow-metadata-1.8.0 tensorflowjs-3.18.0 tf-models-official-2.3.0 tflite_model_maker-0.3.4\n"
     ]
    }
   ],
   "source": [
    "!pip install tflite_model_maker  # tflite_model_maker 설치"
   ]
  },
  {
   "cell_type": "code",
   "execution_count": 5,
   "id": "f393bfe0",
   "metadata": {
    "collapsed": true
   },
   "outputs": [
    {
     "name": "stdout",
     "output_type": "stream",
     "text": [
      "Requirement already satisfied: tflite_support in c:\\users\\wnsgk\\anaconda3\\lib\\site-packages (0.4.1)\n",
      "Requirement already satisfied: absl-py>=0.7.0 in c:\\users\\wnsgk\\anaconda3\\lib\\site-packages (from tflite_support) (1.1.0)\n",
      "Requirement already satisfied: flatbuffers<2,>=1.12 in c:\\users\\wnsgk\\anaconda3\\lib\\site-packages (from tflite_support) (1.12)\n",
      "Requirement already satisfied: numpy>=1.20.0 in c:\\users\\wnsgk\\anaconda3\\lib\\site-packages (from tflite_support) (1.20.3)\n",
      "Requirement already satisfied: sounddevice>=0.4.4 in c:\\users\\wnsgk\\anaconda3\\lib\\site-packages (from tflite_support) (0.4.4)\n",
      "Requirement already satisfied: pybind11>=2.6.0 in c:\\users\\wnsgk\\anaconda3\\lib\\site-packages (from tflite_support) (2.9.2)\n",
      "Requirement already satisfied: protobuf<4,>=3.18.0 in c:\\users\\wnsgk\\anaconda3\\lib\\site-packages (from tflite_support) (3.19.4)\n",
      "Requirement already satisfied: CFFI>=1.0 in c:\\users\\wnsgk\\anaconda3\\lib\\site-packages (from sounddevice>=0.4.4->tflite_support) (1.14.6)\n",
      "Requirement already satisfied: pycparser in c:\\users\\wnsgk\\anaconda3\\lib\\site-packages (from CFFI>=1.0->sounddevice>=0.4.4->tflite_support) (2.20)\n"
     ]
    }
   ],
   "source": [
    "!pip install tflite_support # tflite_support 설치"
   ]
  },
  {
   "cell_type": "code",
   "execution_count": 18,
   "id": "347761c0",
   "metadata": {
    "collapsed": true
   },
   "outputs": [
    {
     "name": "stdout",
     "output_type": "stream",
     "text": [
      "^C\n"
     ]
    }
   ],
   "source": [
    "#!pip uninstall tensorflow && pip install tensorflow==2.8.0"
   ]
  },
  {
   "cell_type": "code",
   "execution_count": 10,
   "id": "e066a1cb",
   "metadata": {
    "collapsed": true
   },
   "outputs": [
    {
     "name": "stdout",
     "output_type": "stream",
     "text": [
      "Collecting pycocotools\n",
      "  Downloading pycocotools-2.0.4.tar.gz (106 kB)\n",
      "     -------------------------------------- 106.6/106.6 kB 3.1 MB/s eta 0:00:00\n",
      "  Installing build dependencies: started\n",
      "  Installing build dependencies: finished with status 'done'\n",
      "  Getting requirements to build wheel: started\n",
      "  Getting requirements to build wheel: finished with status 'done'\n",
      "  Preparing metadata (pyproject.toml): started\n",
      "  Preparing metadata (pyproject.toml): finished with status 'done'\n",
      "Requirement already satisfied: numpy in c:\\users\\wnsgk\\anaconda3\\lib\\site-packages (from pycocotools) (1.20.3)\n",
      "Requirement already satisfied: matplotlib>=2.1.0 in c:\\users\\wnsgk\\anaconda3\\lib\\site-packages (from pycocotools) (3.4.3)\n",
      "Requirement already satisfied: cycler>=0.10 in c:\\users\\wnsgk\\anaconda3\\lib\\site-packages (from matplotlib>=2.1.0->pycocotools) (0.10.0)\n",
      "Requirement already satisfied: kiwisolver>=1.0.1 in c:\\users\\wnsgk\\anaconda3\\lib\\site-packages (from matplotlib>=2.1.0->pycocotools) (1.3.1)\n",
      "Requirement already satisfied: python-dateutil>=2.7 in c:\\users\\wnsgk\\anaconda3\\lib\\site-packages (from matplotlib>=2.1.0->pycocotools) (2.8.2)\n",
      "Requirement already satisfied: pyparsing>=2.2.1 in c:\\users\\wnsgk\\anaconda3\\lib\\site-packages (from matplotlib>=2.1.0->pycocotools) (3.0.4)\n",
      "Requirement already satisfied: pillow>=6.2.0 in c:\\users\\wnsgk\\anaconda3\\lib\\site-packages (from matplotlib>=2.1.0->pycocotools) (8.4.0)\n",
      "Requirement already satisfied: six in c:\\users\\wnsgk\\anaconda3\\lib\\site-packages (from cycler>=0.10->matplotlib>=2.1.0->pycocotools) (1.16.0)\n",
      "Building wheels for collected packages: pycocotools\n",
      "  Building wheel for pycocotools (pyproject.toml): started\n",
      "  Building wheel for pycocotools (pyproject.toml): finished with status 'done'\n",
      "  Created wheel for pycocotools: filename=pycocotools-2.0.4-cp39-cp39-win_amd64.whl size=73013 sha256=06bf1931e39cf1df4db3f64183406eaa7915c98e1a76f685f7735f813e905170\n",
      "  Stored in directory: c:\\users\\wnsgk\\appdata\\local\\pip\\cache\\wheels\\7e\\b0\\8e\\f2c3593944ead79f5146d057d1310ee6d7b60d30b826779846\n",
      "Successfully built pycocotools\n",
      "Installing collected packages: pycocotools\n",
      "Successfully installed pycocotools-2.0.4\n"
     ]
    }
   ],
   "source": [
    "!pip install pycocotools  # pycocotools : Object Detection 모델을 evaluation 할 때 사용하는 evaluation metrics로 사용됨"
   ]
  },
  {
   "cell_type": "code",
   "execution_count": 1,
   "id": "9edd9060",
   "metadata": {},
   "outputs": [],
   "source": [
    "import numpy as np # numpy : 다차원 배열을 처리하는 패키지\n",
    "import os # 운영체제에서 제공되는 여러 기능을 Pyton에서 수행시켜주는 Pyton Library\n",
    "\n",
    "from tflite_model_maker.config import ExportFormat, QuantizationConfig\n",
    "from tflite_model_maker import model_spec\n",
    "from tflite_model_maker import object_detector\n",
    "\n",
    "from tflite_support import metadata\n",
    "\n",
    "import tensorflow as tf  # tensorflow를 tf로 사용한다\n",
    "assert tf.__version__.startswith('2')\n",
    "\n",
    "tf.get_logger().setLevel('ERROR')\n",
    "from absl import logging\n",
    "logging.set_verbosity(logging.ERROR)"
   ]
  },
  {
   "cell_type": "code",
   "execution_count": 2,
   "id": "4a02ade0",
   "metadata": {},
   "outputs": [
    {
     "data": {
      "text/plain": [
       "'2.8.0'"
      ]
     },
     "execution_count": 2,
     "metadata": {},
     "output_type": "execute_result"
    }
   ],
   "source": [
    "# tensorflow 버전 확인 : tensorflow == 2.8.0\n",
    "tf .__version__"
   ]
  },
  {
   "cell_type": "code",
   "execution_count": 3,
   "id": "5b2bf9a9",
   "metadata": {},
   "outputs": [],
   "source": [
    "#각 데이터에 인덱스 붙이기\n",
    "train_data = object_detector.DataLoader.from_pascal_voc(\n",
    "    'C:/Users/wnsgk/test/train', # train 파일 위치 정확히 작성\n",
    "    'C:/Users/wnsgk/test/train',\n",
    "    ['plastic','can','glassBottle']\n",
    ")\n",
    "\n",
    "val_data = object_detector.DataLoader.from_pascal_voc(\n",
    "    'C:/Users/wnsgk/test/validate', # validate 파일 위치 정확히 작성\n",
    "    'C:/Users/wnsgk/test/validate',\n",
    "    ['plastic','can','glassBottle]\n",
    ")"
   ]
  },
  {
   "cell_type": "code",
   "execution_count": 4,
   "id": "a3d7dddd",
   "metadata": {
    "scrolled": false
   },
   "outputs": [],
   "source": [
    "spec = model_spec.get('efficientdet_lite0') # tensorflow == 2.8.0 버전에서만 돌아감"
   ]
  },
  {
   "cell_type": "code",
   "execution_count": 5,
   "id": "70268d4e",
   "metadata": {
    "collapsed": true
   },
   "outputs": [
    {
     "name": "stdout",
     "output_type": "stream",
     "text": [
      "Epoch 1/20\n",
      "48/48 [==============================] - 170s 3s/step - det_loss: 1.3993 - cls_loss: 0.8935 - box_loss: 0.0101 - reg_l2_loss: 0.0629 - loss: 1.4622 - learning_rate: 0.0065 - gradient_norm: 2.3983 - val_det_loss: 1.2156 - val_cls_loss: 0.8004 - val_box_loss: 0.0083 - val_reg_l2_loss: 0.0629 - val_loss: 1.2785\n",
      "Epoch 2/20\n",
      "48/48 [==============================] - 118s 2s/step - det_loss: 0.8779 - cls_loss: 0.5287 - box_loss: 0.0070 - reg_l2_loss: 0.0630 - loss: 0.9408 - learning_rate: 0.0049 - gradient_norm: 3.0907 - val_det_loss: 0.8426 - val_cls_loss: 0.5233 - val_box_loss: 0.0064 - val_reg_l2_loss: 0.0630 - val_loss: 0.9056\n",
      "Epoch 3/20\n",
      "48/48 [==============================] - 122s 3s/step - det_loss: 0.7330 - cls_loss: 0.4486 - box_loss: 0.0057 - reg_l2_loss: 0.0630 - loss: 0.7960 - learning_rate: 0.0048 - gradient_norm: 4.1294 - val_det_loss: 0.6307 - val_cls_loss: 0.3447 - val_box_loss: 0.0057 - val_reg_l2_loss: 0.0630 - val_loss: 0.6937\n",
      "Epoch 4/20\n",
      "48/48 [==============================] - 119s 2s/step - det_loss: 0.6038 - cls_loss: 0.3755 - box_loss: 0.0046 - reg_l2_loss: 0.0630 - loss: 0.6669 - learning_rate: 0.0046 - gradient_norm: 4.0886 - val_det_loss: 0.5383 - val_cls_loss: 0.3106 - val_box_loss: 0.0046 - val_reg_l2_loss: 0.0631 - val_loss: 0.6014\n",
      "Epoch 5/20\n",
      "48/48 [==============================] - 147s 3s/step - det_loss: 0.5544 - cls_loss: 0.3607 - box_loss: 0.0039 - reg_l2_loss: 0.0631 - loss: 0.6175 - learning_rate: 0.0043 - gradient_norm: 4.4601 - val_det_loss: 0.5876 - val_cls_loss: 0.3489 - val_box_loss: 0.0048 - val_reg_l2_loss: 0.0631 - val_loss: 0.6507\n",
      "Epoch 6/20\n",
      "48/48 [==============================] - 118s 2s/step - det_loss: 0.5192 - cls_loss: 0.3270 - box_loss: 0.0038 - reg_l2_loss: 0.0631 - loss: 0.5823 - learning_rate: 0.0040 - gradient_norm: 4.2756 - val_det_loss: 0.5021 - val_cls_loss: 0.2748 - val_box_loss: 0.0045 - val_reg_l2_loss: 0.0631 - val_loss: 0.5653\n",
      "Epoch 7/20\n",
      "48/48 [==============================] - 118s 2s/step - det_loss: 0.4860 - cls_loss: 0.3064 - box_loss: 0.0036 - reg_l2_loss: 0.0631 - loss: 0.5491 - learning_rate: 0.0037 - gradient_norm: 4.2979 - val_det_loss: 0.4729 - val_cls_loss: 0.3109 - val_box_loss: 0.0032 - val_reg_l2_loss: 0.0632 - val_loss: 0.5361\n",
      "Epoch 8/20\n",
      "48/48 [==============================] - 118s 2s/step - det_loss: 0.4612 - cls_loss: 0.2879 - box_loss: 0.0035 - reg_l2_loss: 0.0632 - loss: 0.5244 - learning_rate: 0.0033 - gradient_norm: 4.1771 - val_det_loss: 0.4331 - val_cls_loss: 0.2249 - val_box_loss: 0.0042 - val_reg_l2_loss: 0.0632 - val_loss: 0.4963\n",
      "Epoch 9/20\n",
      "48/48 [==============================] - 118s 2s/step - det_loss: 0.4452 - cls_loss: 0.2816 - box_loss: 0.0033 - reg_l2_loss: 0.0632 - loss: 0.5084 - learning_rate: 0.0029 - gradient_norm: 4.0025 - val_det_loss: 0.3998 - val_cls_loss: 0.2450 - val_box_loss: 0.0031 - val_reg_l2_loss: 0.0632 - val_loss: 0.4630\n",
      "Epoch 10/20\n",
      "48/48 [==============================] - 143s 3s/step - det_loss: 0.4152 - cls_loss: 0.2692 - box_loss: 0.0029 - reg_l2_loss: 0.0632 - loss: 0.4784 - learning_rate: 0.0025 - gradient_norm: 4.0910 - val_det_loss: 0.3801 - val_cls_loss: 0.2396 - val_box_loss: 0.0028 - val_reg_l2_loss: 0.0632 - val_loss: 0.4433\n",
      "Epoch 11/20\n",
      "48/48 [==============================] - 117s 2s/step - det_loss: 0.3855 - cls_loss: 0.2483 - box_loss: 0.0027 - reg_l2_loss: 0.0632 - loss: 0.4487 - learning_rate: 0.0021 - gradient_norm: 3.8866 - val_det_loss: 0.3677 - val_cls_loss: 0.2176 - val_box_loss: 0.0030 - val_reg_l2_loss: 0.0632 - val_loss: 0.4309\n",
      "Epoch 12/20\n",
      "48/48 [==============================] - 117s 2s/step - det_loss: 0.3905 - cls_loss: 0.2516 - box_loss: 0.0028 - reg_l2_loss: 0.0632 - loss: 0.4537 - learning_rate: 0.0017 - gradient_norm: 4.1675 - val_det_loss: 0.4154 - val_cls_loss: 0.2480 - val_box_loss: 0.0033 - val_reg_l2_loss: 0.0632 - val_loss: 0.4787\n",
      "Epoch 13/20\n",
      "48/48 [==============================] - 119s 2s/step - det_loss: 0.3763 - cls_loss: 0.2450 - box_loss: 0.0026 - reg_l2_loss: 0.0632 - loss: 0.4395 - learning_rate: 0.0013 - gradient_norm: 4.3333 - val_det_loss: 0.3983 - val_cls_loss: 0.2482 - val_box_loss: 0.0030 - val_reg_l2_loss: 0.0632 - val_loss: 0.4615\n",
      "Epoch 14/20\n",
      "48/48 [==============================] - 119s 2s/step - det_loss: 0.3515 - cls_loss: 0.2345 - box_loss: 0.0023 - reg_l2_loss: 0.0632 - loss: 0.4148 - learning_rate: 9.6642e-04 - gradient_norm: 3.9022 - val_det_loss: 0.3477 - val_cls_loss: 0.2289 - val_box_loss: 0.0024 - val_reg_l2_loss: 0.0632 - val_loss: 0.4109\n",
      "Epoch 15/20\n",
      "48/48 [==============================] - 139s 3s/step - det_loss: 0.3251 - cls_loss: 0.2165 - box_loss: 0.0022 - reg_l2_loss: 0.0632 - loss: 0.3883 - learning_rate: 6.6298e-04 - gradient_norm: 3.8589 - val_det_loss: 0.3447 - val_cls_loss: 0.2187 - val_box_loss: 0.0025 - val_reg_l2_loss: 0.0632 - val_loss: 0.4079\n",
      "Epoch 16/20\n",
      "48/48 [==============================] - 118s 2s/step - det_loss: 0.3298 - cls_loss: 0.2224 - box_loss: 0.0021 - reg_l2_loss: 0.0632 - loss: 0.3930 - learning_rate: 4.0965e-04 - gradient_norm: 3.6079 - val_det_loss: 0.3383 - val_cls_loss: 0.2198 - val_box_loss: 0.0024 - val_reg_l2_loss: 0.0632 - val_loss: 0.4015\n",
      "Epoch 17/20\n",
      "48/48 [==============================] - 116s 2s/step - det_loss: 0.3336 - cls_loss: 0.2211 - box_loss: 0.0022 - reg_l2_loss: 0.0632 - loss: 0.3968 - learning_rate: 2.1334e-04 - gradient_norm: 3.9255 - val_det_loss: 0.3430 - val_cls_loss: 0.2216 - val_box_loss: 0.0024 - val_reg_l2_loss: 0.0632 - val_loss: 0.4062\n",
      "Epoch 18/20\n",
      "48/48 [==============================] - 126s 3s/step - det_loss: 0.3168 - cls_loss: 0.2130 - box_loss: 0.0021 - reg_l2_loss: 0.0632 - loss: 0.3800 - learning_rate: 7.9403e-05 - gradient_norm: 3.3978 - val_det_loss: 0.3389 - val_cls_loss: 0.2167 - val_box_loss: 0.0024 - val_reg_l2_loss: 0.0632 - val_loss: 0.4021\n",
      "Epoch 19/20\n",
      "48/48 [==============================] - 119s 2s/step - det_loss: 0.3233 - cls_loss: 0.2166 - box_loss: 0.0021 - reg_l2_loss: 0.0632 - loss: 0.3865 - learning_rate: 1.1494e-05 - gradient_norm: 4.0238 - val_det_loss: 0.3404 - val_cls_loss: 0.2183 - val_box_loss: 0.0024 - val_reg_l2_loss: 0.0632 - val_loss: 0.4036\n",
      "Epoch 20/20\n",
      "48/48 [==============================] - 140s 3s/step - det_loss: 0.3262 - cls_loss: 0.2199 - box_loss: 0.0021 - reg_l2_loss: 0.0632 - loss: 0.3894 - learning_rate: 1.1466e-05 - gradient_norm: 3.6437 - val_det_loss: 0.3472 - val_cls_loss: 0.2225 - val_box_loss: 0.0025 - val_reg_l2_loss: 0.0632 - val_loss: 0.4104\n"
     ]
    }
   ],
   "source": [
    "# 이미지 학습하기\n",
    "model = object_detector.create(train_data, model_spec=spec, batch_size=4, train_whole_model=True, epochs=20, validation_data=val_data)"
   ]
  },
  {
   "cell_type": "code",
   "execution_count": 6,
   "id": "f81020f8",
   "metadata": {
    "collapsed": true
   },
   "outputs": [
    {
     "name": "stdout",
     "output_type": "stream",
     "text": [
      "4/4 [==============================] - 35s 5s/step\n",
      "\n"
     ]
    },
    {
     "data": {
      "text/plain": [
       "{'AP': 0.7530935,\n",
       " 'AP50': 0.9850828,\n",
       " 'AP75': 0.9269486,\n",
       " 'APs': -1.0,\n",
       " 'APm': 0.6111076,\n",
       " 'APl': 0.7601107,\n",
       " 'ARmax1': 0.709597,\n",
       " 'ARmax10': 0.814934,\n",
       " 'ARmax100': 0.8153726,\n",
       " 'ARs': -1.0,\n",
       " 'ARm': 0.7076923,\n",
       " 'ARl': 0.820297,\n",
       " 'AP_/person': 0.70317256,\n",
       " 'AP_/wheelchair': 0.80301446}"
      ]
     },
     "execution_count": 6,
     "metadata": {},
     "output_type": "execute_result"
    }
   ],
   "source": [
    "model.evaluate(val_data)"
   ]
  },
  {
   "cell_type": "code",
   "execution_count": 7,
   "id": "c221ef92",
   "metadata": {},
   "outputs": [],
   "source": [
    "# .tflite 파일로 export하기\n",
    "model.export(export_dir='.', tflite_filename='android.tflite')"
   ]
  },
  {
   "cell_type": "code",
   "execution_count": null,
   "id": "c30277c7",
   "metadata": {},
   "outputs": [],
   "source": []
  }
 ],
 "metadata": {
  "kernelspec": {
   "display_name": "Python 3 (ipykernel)",
   "language": "python",
   "name": "python3"
  },
  "language_info": {
   "codemirror_mode": {
    "name": "ipython",
    "version": 3
   },
   "file_extension": ".py",
   "mimetype": "text/x-python",
   "name": "python",
   "nbconvert_exporter": "python",
   "pygments_lexer": "ipython3",
   "version": "3.9.7"
  }
 },
 "nbformat": 4,
 "nbformat_minor": 5
}
